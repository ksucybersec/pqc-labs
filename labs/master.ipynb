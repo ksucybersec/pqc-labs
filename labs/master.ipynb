{
 "cells": [
  {
   "cell_type": "markdown",
   "id": "344f73d9-b3be-4fc2-8827-7759aafb886a",
   "metadata": {},
   "source": [
    "# Lab: A Practical Introduction to Post-Quantum Cryptography (PQC)\n",
    "\n",
    "**Welcome!**\n",
    "\n",
    "This lab provides a hands-on journey into the world of Post-Quantum Cryptography. You'll use the `liboqs-python` library to interact with NIST-standardized PQC algorithms, preparing you for the next generation of secure communication.\n",
    "\n",
    "**Lab Overview:**\n",
    "\n",
    "This lab is divided into two main parts, demonstrating how PQC addresses different cryptographic needs. Click on a task to navigate directly to it.\n",
    "\n",
    "1.  **Part 1: Securing Data Confidentiality (Tasks 1-3)**\n",
    "    *   You'll explore **Key Encapsulation Mechanisms (KEMs)** like ML-KEM (CRYSTALS-Kyber).\n",
    "    *   [**Task 1: Generating ML-KEM Key Pairs**](./task1/task_1.ipynb)\n",
    "    *   [**Task 2: Encrypting a Message (Encapsulation & Symmetric Encryption)**](./task2/task_2.ipynb)\n",
    "    *   [**Task 3: Decrypting a Message (Decapsulation & Symmetric Decryption)**](./task3/task_3.ipynb)\n",
    "    *   *Outcome: Understand how PQC KEMs enable secure key exchange and, consequently, confidential communication.*\n",
    "\n",
    "2.  **Part 2: Ensuring Authenticity & Integrity (Tasks 4-5)**\n",
    "    *   You'll work with **PQC Digital Signature Algorithms** like ML-DSA (CRYSTALS-Dilithium) or SLH-DSA (SPHINCS+).\n",
    "    *   [**Task 4: Signing a Message with PQC Digital Signatures**](./task4/task_4.ipynb)\n",
    "    *   [**Task 5: Verifying a PQC Digital Signature**](./task5/task_5.ipynb)\n",
    "    *   *Outcome: Understand how PQC digital signatures provide message authenticity and integrity.*\n",
    "\n",
    "**Instructions:**\n",
    "\n",
    "*   The lab consists of sequential tasks. It's recommended to complete them in order, as outputs from earlier tasks are often needed for later ones.\n",
    "*   Each task link above will take you to a separate notebook containing its specific introductory markdown and Python code cell(s).\n",
    "*   Read the instructions and learning objectives within each task's notebook."
   ]
  }
 ],
 "metadata": {
  "kernelspec": {
   "display_name": "Python 3 (ipykernel)",
   "language": "python",
   "name": "python3"
  },
  "language_info": {
   "codemirror_mode": {
    "name": "ipython",
    "version": 3
   },
   "file_extension": ".py",
   "mimetype": "text/x-python",
   "name": "python",
   "nbconvert_exporter": "python",
   "pygments_lexer": "ipython3",
   "version": "3.13.3"
  }
 },
 "nbformat": 4,
 "nbformat_minor": 5
}
